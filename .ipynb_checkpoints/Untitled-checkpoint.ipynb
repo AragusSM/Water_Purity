{
 "cells": [
  {
   "cell_type": "code",
   "execution_count": 7,
   "id": "6f4051ce",
   "metadata": {},
   "outputs": [
    {
     "ename": "ModuleNotFoundError",
     "evalue": "No module named 'missingno'",
     "output_type": "error",
     "traceback": [
      "\u001b[1;31m---------------------------------------------------------------------------\u001b[0m",
      "\u001b[1;31mModuleNotFoundError\u001b[0m                       Traceback (most recent call last)",
      "Cell \u001b[1;32mIn[7], line 4\u001b[0m\n\u001b[0;32m      2\u001b[0m \u001b[38;5;28;01mfrom\u001b[39;00m \u001b[38;5;21;01mmatplotlib\u001b[39;00m \u001b[38;5;28;01mimport\u001b[39;00m pyplot \u001b[38;5;28;01mas\u001b[39;00m plt\n\u001b[0;32m      3\u001b[0m \u001b[38;5;28;01mimport\u001b[39;00m \u001b[38;5;21;01mnumpy\u001b[39;00m \u001b[38;5;28;01mas\u001b[39;00m \u001b[38;5;21;01mnp\u001b[39;00m\n\u001b[1;32m----> 4\u001b[0m \u001b[38;5;28;01mimport\u001b[39;00m \u001b[38;5;21;01mmissingno\u001b[39;00m \u001b[38;5;28;01mas\u001b[39;00m \u001b[38;5;21;01mmsno\u001b[39;00m\n\u001b[0;32m      5\u001b[0m data \u001b[38;5;241m=\u001b[39m pd\u001b[38;5;241m.\u001b[39mread_csv(\u001b[38;5;124m\"\u001b[39m\u001b[38;5;124mwater_potability.csv\u001b[39m\u001b[38;5;124m\"\u001b[39m)\n",
      "\u001b[1;31mModuleNotFoundError\u001b[0m: No module named 'missingno'"
     ]
    }
   ],
   "source": [
    "import pandas as pd\n",
    "from matplotlib import pyplot as plt\n",
    "import numpy as np\n",
    "import missingno as msno\n",
    "\n",
    "data = pd.read_csv(\"water_potability.csv\")"
   ]
  },
  {
   "cell_type": "markdown",
   "id": "28ace065",
   "metadata": {},
   "source": [
    "# CS 363M Group 48 Project Submssion"
   ]
  },
  {
   "cell_type": "markdown",
   "id": "d1061ade",
   "metadata": {},
   "source": [
    "## Subject : Water Portability Detection\n",
    "### -Water is an essential part of our life. However, billions of people have a limited access to clean water. Especially in Africa, 115 people die in every hours from disease from contaminated water. Therefore, by examining the portability of water, we can specify a clean water more easily and cost-efficiently. "
   ]
  },
  {
   "cell_type": "markdown",
   "id": "8c746b5d",
   "metadata": {},
   "source": [
    "## Explanation of Data Set"
   ]
  },
  {
   "cell_type": "markdown",
   "id": "65a31af5",
   "metadata": {},
   "source": [
    "### Overview: \n",
    "- Dataset determined whether water is safe based on 9 features. \n",
    "- Dataset have one clssification called Potability\n",
    "- Size: Data contains 3276 data sets"
   ]
  },
  {
   "cell_type": "code",
   "execution_count": 3,
   "id": "0ed5affe",
   "metadata": {},
   "outputs": [
    {
     "data": {
      "text/plain": [
       "(3276, 10)"
      ]
     },
     "execution_count": 3,
     "metadata": {},
     "output_type": "execute_result"
    }
   ],
   "source": [
    "\"\"\"\n",
    "Shape of the data\n",
    "\"\"\"\n",
    "\n",
    "data.shape"
   ]
  },
  {
   "cell_type": "code",
   "execution_count": 4,
   "id": "0af85810",
   "metadata": {},
   "outputs": [
    {
     "data": {
      "text/html": [
       "<div>\n",
       "<style scoped>\n",
       "    .dataframe tbody tr th:only-of-type {\n",
       "        vertical-align: middle;\n",
       "    }\n",
       "\n",
       "    .dataframe tbody tr th {\n",
       "        vertical-align: top;\n",
       "    }\n",
       "\n",
       "    .dataframe thead th {\n",
       "        text-align: right;\n",
       "    }\n",
       "</style>\n",
       "<table border=\"1\" class=\"dataframe\">\n",
       "  <thead>\n",
       "    <tr style=\"text-align: right;\">\n",
       "      <th></th>\n",
       "      <th>ph</th>\n",
       "      <th>Hardness</th>\n",
       "      <th>Solids</th>\n",
       "      <th>Chloramines</th>\n",
       "      <th>Sulfate</th>\n",
       "      <th>Conductivity</th>\n",
       "      <th>Organic_carbon</th>\n",
       "      <th>Trihalomethanes</th>\n",
       "      <th>Turbidity</th>\n",
       "      <th>Potability</th>\n",
       "    </tr>\n",
       "  </thead>\n",
       "  <tbody>\n",
       "    <tr>\n",
       "      <th>0</th>\n",
       "      <td>NaN</td>\n",
       "      <td>204.890455</td>\n",
       "      <td>20791.318981</td>\n",
       "      <td>7.300212</td>\n",
       "      <td>368.516441</td>\n",
       "      <td>564.308654</td>\n",
       "      <td>10.379783</td>\n",
       "      <td>86.990970</td>\n",
       "      <td>2.963135</td>\n",
       "      <td>0</td>\n",
       "    </tr>\n",
       "    <tr>\n",
       "      <th>1</th>\n",
       "      <td>3.716080</td>\n",
       "      <td>129.422921</td>\n",
       "      <td>18630.057858</td>\n",
       "      <td>6.635246</td>\n",
       "      <td>NaN</td>\n",
       "      <td>592.885359</td>\n",
       "      <td>15.180013</td>\n",
       "      <td>56.329076</td>\n",
       "      <td>4.500656</td>\n",
       "      <td>0</td>\n",
       "    </tr>\n",
       "    <tr>\n",
       "      <th>2</th>\n",
       "      <td>8.099124</td>\n",
       "      <td>224.236259</td>\n",
       "      <td>19909.541732</td>\n",
       "      <td>9.275884</td>\n",
       "      <td>NaN</td>\n",
       "      <td>418.606213</td>\n",
       "      <td>16.868637</td>\n",
       "      <td>66.420093</td>\n",
       "      <td>3.055934</td>\n",
       "      <td>0</td>\n",
       "    </tr>\n",
       "    <tr>\n",
       "      <th>3</th>\n",
       "      <td>8.316766</td>\n",
       "      <td>214.373394</td>\n",
       "      <td>22018.417441</td>\n",
       "      <td>8.059332</td>\n",
       "      <td>356.886136</td>\n",
       "      <td>363.266516</td>\n",
       "      <td>18.436524</td>\n",
       "      <td>100.341674</td>\n",
       "      <td>4.628771</td>\n",
       "      <td>0</td>\n",
       "    </tr>\n",
       "    <tr>\n",
       "      <th>4</th>\n",
       "      <td>9.092223</td>\n",
       "      <td>181.101509</td>\n",
       "      <td>17978.986339</td>\n",
       "      <td>6.546600</td>\n",
       "      <td>310.135738</td>\n",
       "      <td>398.410813</td>\n",
       "      <td>11.558279</td>\n",
       "      <td>31.997993</td>\n",
       "      <td>4.075075</td>\n",
       "      <td>0</td>\n",
       "    </tr>\n",
       "  </tbody>\n",
       "</table>\n",
       "</div>"
      ],
      "text/plain": [
       "         ph    Hardness        Solids  Chloramines     Sulfate  Conductivity  \\\n",
       "0       NaN  204.890455  20791.318981     7.300212  368.516441    564.308654   \n",
       "1  3.716080  129.422921  18630.057858     6.635246         NaN    592.885359   \n",
       "2  8.099124  224.236259  19909.541732     9.275884         NaN    418.606213   \n",
       "3  8.316766  214.373394  22018.417441     8.059332  356.886136    363.266516   \n",
       "4  9.092223  181.101509  17978.986339     6.546600  310.135738    398.410813   \n",
       "\n",
       "   Organic_carbon  Trihalomethanes  Turbidity  Potability  \n",
       "0       10.379783        86.990970   2.963135           0  \n",
       "1       15.180013        56.329076   4.500656           0  \n",
       "2       16.868637        66.420093   3.055934           0  \n",
       "3       18.436524       100.341674   4.628771           0  \n",
       "4       11.558279        31.997993   4.075075           0  "
      ]
     },
     "execution_count": 4,
     "metadata": {},
     "output_type": "execute_result"
    }
   ],
   "source": [
    "\"\"\"\n",
    "First Five Rows\n",
    "\"\"\"\n",
    "\n",
    "data.head()"
   ]
  },
  {
   "cell_type": "markdown",
   "id": "0a88bd3f",
   "metadata": {},
   "source": [
    "### Dataset determined whether water is safe based on 9 features. \n",
    "#### 1. pH value:\n",
    "- PH is the measurements of acidic or alkaline condition of water status. WHO has recommended limit of pH from 6.5 to 8.5.\n",
    "#### 2. Hardness:\n",
    "- Hardness is caused by calcium and magnesium salts. These salts are dissolved from geologic deposits through which water travels. The length of time water is in contact with hardness producing material helps determine how much hardness there is in raw water. Hardness was originally defined as the capacity of water to precipitate soap caused by Calcium and Magnesium.\n",
    "\n",
    "#### 3. Solids (Total dissolved solids - TDS):\n",
    "- Water has the ability to dissolve a wide range of inorganic and some organic minerals or salts such as potassium, calcium, sodium, bicarbonates, chlorides, magnesium, sulfates etc. These minerals produced un-wanted taste and diluted color in appearance of water. This is the important parameter for the use of water. The water with high TDS value indicates that water is highly mineralized. Desirable limit for TDS is 500 mg/l and maximum limit is 1000 mg/l which prescribed for drinking purpose.\n",
    "\n",
    "#### 4. Chloramines:\n",
    "- Chlorine and chloramine are the major disinfectants used in public water systems. Chloramines are most commonly formed when ammonia is added to chlorine to treat drinking water. Chlorine levels up to 4 milligrams per liter (mg/L or 4 parts per million (ppm)) are considered safe in drinking water.\n",
    "\n",
    "#### 5. Sulfate:\n",
    "- Sulfates are naturally occurring substances that are found in minerals, soil, and rocks. They are present in ambient air, groundwater, plants, and food. The principal commercial use of sulfate is in the chemical industry. Sulfate concentration in seawater is about 2,700 milligrams per liter (mg/L). It ranges from 3 to 30 mg/L in most freshwater supplies, although much higher concentrations (1000 mg/L) are found in some geographic locations.\n",
    "\n",
    "#### 6. Conductivity:\n",
    "- Pure water is not a good conductor of electric current rather’s a good insulator. Increase in ions concentration enhances the electrical conductivity of water. Generally, the amount of dissolved solids in water determines the electrical conductivity. Electrical conductivity (EC) actually measures the ionic process of a solution that enables it to transmit current. According to WHO standards, EC value should not exceeded 400 μS/cm.\n",
    "\n",
    "#### 7. Organic_carbon:\n",
    "- Total Organic Carbon (TOC) in source waters comes from decaying natural organic matter (NOM) as well as synthetic sources. TOC is a measure of the total amount of carbon in organic compounds in pure water. According to US EPA < 2 mg/L as TOC in treated / drinking water, and < 4 mg/Lit in source water which is use for treatment.\n",
    "\n",
    "#### 8. Trihalomethanes:\n",
    "- THMs are chemicals which may be found in water treated with chlorine. The concentration of THMs in drinking water varies according to the level of organic material in the water, the amount of chlorine required to treat the water, and the temperature of the water that is being treated. THM levels up to 80 ppm is considered safe in drinking water.\n",
    "\n",
    "#### 9. Turbidity:\n",
    "- The turbidity of water depends on the quantity of solid matter present in the suspended state. It is a measure of light emitting properties of water and the test is used to indicate the quality of waste discharge with respect to colloidal matter. The mean turbidity value obtained for Wondo Genet Campus (0.98 NTU) is lower than the WHO recommended value of 5.00 NTU.\n",
    "\n",
    "#### 10. Potability:\n",
    "- 1 means Potable and 0 means Not potable."
   ]
  },
  {
   "cell_type": "markdown",
   "id": "a3664f5c",
   "metadata": {},
   "source": [
    "## Data Cleaning"
   ]
  },
  {
   "cell_type": "code",
   "execution_count": 6,
   "id": "d793e396",
   "metadata": {},
   "outputs": [
    {
     "data": {
      "text/plain": [
       "ph                 491\n",
       "Hardness             0\n",
       "Solids               0\n",
       "Chloramines          0\n",
       "Sulfate            781\n",
       "Conductivity         0\n",
       "Organic_carbon       0\n",
       "Trihalomethanes    162\n",
       "Turbidity            0\n",
       "Potability           0\n",
       "dtype: int64"
      ]
     },
     "execution_count": 6,
     "metadata": {},
     "output_type": "execute_result"
    }
   ],
   "source": [
    "data.isna().sum()"
   ]
  },
  {
   "cell_type": "code",
   "execution_count": null,
   "id": "6920dad5",
   "metadata": {},
   "outputs": [],
   "source": [
    "missingno.bar(data)"
   ]
  },
  {
   "cell_type": "code",
   "execution_count": 11,
   "id": "bf2347d5",
   "metadata": {},
   "outputs": [
    {
     "data": {
      "text/plain": [
       "ph                 1.000000\n",
       "Hardness           0.082096\n",
       "Solids            -0.089288\n",
       "Chloramines       -0.034350\n",
       "Sulfate            0.018203\n",
       "Conductivity       0.018614\n",
       "Organic_carbon     0.043503\n",
       "Trihalomethanes    0.003354\n",
       "Turbidity         -0.039057\n",
       "Potability        -0.003556\n",
       "Name: ph, dtype: float64"
      ]
     },
     "execution_count": 11,
     "metadata": {},
     "output_type": "execute_result"
    }
   ],
   "source": [
    "data.corr()[\"ph\"]"
   ]
  },
  {
   "cell_type": "code",
   "execution_count": 21,
   "id": "bf6426ff",
   "metadata": {},
   "outputs": [
    {
     "data": {
      "text/plain": [
       "<Axes: ylabel='Density'>"
      ]
     },
     "execution_count": 21,
     "metadata": {},
     "output_type": "execute_result"
    },
    {
     "data": {
      "image/png": "[encoded data removed]",
      "text/plain": [
       "<Figure size 640x480 with 1 Axes>"
      ]
     },
     "metadata": {},
     "output_type": "display_data"
    }
   ],
   "source": [
    "data[\"ph\"].plot.density()"
   ]
  },
  {
   "cell_type": "code",
   "execution_count": 22,
   "id": "5e71f511",
   "metadata": {},
   "outputs": [
    {
     "data": {
      "text/plain": [
       "<Axes: ylabel='Density'>"
      ]
     },
     "execution_count": 22,
     "metadata": {},
     "output_type": "execute_result"
    },
    {
     "data": {
      "image/png": "[encoded data removed]",
      "text/plain": [
       "<Figure size 640x480 with 1 Axes>"
      ]
     },
     "metadata": {},
     "output_type": "display_data"
    }
   ],
   "source": [
    "data[\"Sulfate\"].plot.density()"
   ]
  },
  {
   "cell_type": "code",
   "execution_count": 23,
   "id": "348d52aa",
   "metadata": {},
   "outputs": [
    {
     "data": {
      "text/plain": [
       "ph                 0.018203\n",
       "Hardness          -0.106923\n",
       "Solids            -0.171804\n",
       "Chloramines        0.027244\n",
       "Sulfate            1.000000\n",
       "Conductivity      -0.016121\n",
       "Organic_carbon     0.030831\n",
       "Trihalomethanes   -0.030274\n",
       "Turbidity         -0.011187\n",
       "Potability        -0.023577\n",
       "Name: Sulfate, dtype: float64"
      ]
     },
     "execution_count": 23,
     "metadata": {},
     "output_type": "execute_result"
    }
   ],
   "source": [
    "data.corr()[\"Sulfate\"]"
   ]
  },
  {
   "cell_type": "code",
   "execution_count": 29,
   "id": "134134c9",
   "metadata": {
    "scrolled": true
   },
   "outputs": [
    {
     "data": {
      "text/plain": [
       "ph                 0.003354\n",
       "Hardness          -0.013013\n",
       "Solids            -0.009143\n",
       "Chloramines        0.017084\n",
       "Sulfate           -0.030274\n",
       "Conductivity       0.001285\n",
       "Organic_carbon    -0.013274\n",
       "Trihalomethanes    1.000000\n",
       "Turbidity         -0.022145\n",
       "Potability         0.007130\n",
       "Name: Trihalomethanes, dtype: float64"
      ]
     },
     "execution_count": 29,
     "metadata": {},
     "output_type": "execute_result"
    }
   ],
   "source": [
    "data.corr()[\"Trihalomethanes\"]"
   ]
  },
  {
   "cell_type": "code",
   "execution_count": 30,
   "id": "f2d7ea26",
   "metadata": {},
   "outputs": [
    {
     "data": {
      "text/plain": [
       "<Axes: ylabel='Density'>"
      ]
     },
     "execution_count": 30,
     "metadata": {},
     "output_type": "execute_result"
    },
    {
     "data": {
      "image/png": "[encoded data removed]",
      "text/plain": [
       "<Figure size 640x480 with 1 Axes>"
      ]
     },
     "metadata": {},
     "output_type": "display_data"
    }
   ],
   "source": [
    "data[\"Trihalomethanes\"].plot.density()"
   ]
  },
  {
   "cell_type": "code",
   "execution_count": 24,
   "id": "009e7d0b",
   "metadata": {},
   "outputs": [],
   "source": [
    "mean = data[\"Sulfate\"].mean()\n",
    "data[\"Sulfate\"].fillna(mean,inplace=True)"
   ]
  },
  {
   "cell_type": "code",
   "execution_count": 25,
   "id": "eab8911a",
   "metadata": {},
   "outputs": [],
   "source": [
    "mean = data[\"ph\"].mean()\n",
    "data[\"ph\"].fillna(mean,inplace=True)"
   ]
  },
  {
   "cell_type": "code",
   "execution_count": 26,
   "id": "a5c50e2f",
   "metadata": {},
   "outputs": [],
   "source": [
    "mean = data[\"Trihalomethanes\"].mean()\n",
    "data[\"Trihalomethanes\"].fillna(mean,inplace=True)"
   ]
  },
  {
   "cell_type": "code",
   "execution_count": 27,
   "id": "be65058c",
   "metadata": {},
   "outputs": [
    {
     "data": {
      "text/plain": [
       "ph                 0\n",
       "Hardness           0\n",
       "Solids             0\n",
       "Chloramines        0\n",
       "Sulfate            0\n",
       "Conductivity       0\n",
       "Organic_carbon     0\n",
       "Trihalomethanes    0\n",
       "Turbidity          0\n",
       "Potability         0\n",
       "dtype: int64"
      ]
     },
     "execution_count": 27,
     "metadata": {},
     "output_type": "execute_result"
    }
   ],
   "source": [
    "data.isna().sum() #split the dataset"
   ]
  },
  {
   "cell_type": "code",
   "execution_count": 34,
   "id": "ac36beaa",
   "metadata": {},
   "outputs": [],
   "source": [
    "data = data.dropna()"
   ]
  },
  {
   "cell_type": "code",
   "execution_count": 35,
   "id": "7b42f635",
   "metadata": {
    "scrolled": true
   },
   "outputs": [
    {
     "data": {
      "text/plain": [
       "ph                 0\n",
       "Hardness           0\n",
       "Solids             0\n",
       "Chloramines        0\n",
       "Sulfate            0\n",
       "Conductivity       0\n",
       "Organic_carbon     0\n",
       "Trihalomethanes    0\n",
       "Turbidity          0\n",
       "Potability         0\n",
       "dtype: int64"
      ]
     },
     "execution_count": 35,
     "metadata": {},
     "output_type": "execute_result"
    }
   ],
   "source": [
    "data.isna().sum()"
   ]
  },
  {
   "cell_type": "code",
   "execution_count": null,
   "id": "05cb1db6",
   "metadata": {},
   "outputs": [],
   "source": [
    "### Normal Distrution"
   ]
  },
  {
   "cell_type": "code",
   "execution_count": null,
   "id": "961d3c03",
   "metadata": {},
   "outputs": [],
   "source": [
    "### Check whether there is an Outliers"
   ]
  },
  {
   "cell_type": "code",
   "execution_count": null,
   "id": "f0d78292",
   "metadata": {},
   "outputs": [],
   "source": [
    "\"\"\"\n",
    "Data Exploration\n",
    "\n",
    "\"\"\""
   ]
  },
  {
   "cell_type": "code",
   "execution_count": 39,
   "id": "0a21a1d4",
   "metadata": {},
   "outputs": [],
   "source": [
    "from sklearn.preprocessing import MinMaxScaler\n",
    "scaler = MinMaxScaler()\n",
    "df_scaled = pd.DataFrame(scaler.fit_transform(data), columns=data.columns)"
   ]
  },
  {
   "cell_type": "code",
   "execution_count": 40,
   "id": "f7f8ba3a",
   "metadata": {
    "scrolled": false
   },
   "outputs": [
    {
     "data": {
      "text/plain": [
       "<Axes: >"
      ]
     },
     "execution_count": 40,
     "metadata": {},
     "output_type": "execute_result"
    },
    {
     "data": {
      "image/png": "[encoded data removed]",
      "text/plain": [
       "<Figure size 640x480 with 1 Axes>"
      ]
     },
     "metadata": {},
     "output_type": "display_data"
    }
   ],
   "source": [
    "df_scaled.plot.box()"
   ]
  },
  {
   "cell_type": "code",
   "execution_count": 52,
   "id": "96ce6f3b",
   "metadata": {},
   "outputs": [],
   "source": [
    "df_scaled_Good = data[data['Potability']==1]\n",
    "df_scaled_Not_Good = data[data['Potability']==0]"
   ]
  },
  {
   "cell_type": "code",
   "execution_count": 53,
   "id": "5d50af90",
   "metadata": {
    "scrolled": true
   },
   "outputs": [
    {
     "data": {
      "text/plain": [
       "(1278, 10)"
      ]
     },
     "execution_count": 53,
     "metadata": {},
     "output_type": "execute_result"
    }
   ],
   "source": [
    "df_scaled_Good.shape"
   ]
  },
  {
   "cell_type": "code",
   "execution_count": 54,
   "id": "51468aac",
   "metadata": {},
   "outputs": [
    {
     "data": {
      "text/plain": [
       "(1998, 10)"
      ]
     },
     "execution_count": 54,
     "metadata": {},
     "output_type": "execute_result"
    }
   ],
   "source": [
    "df_scaled_Not_Good.shape"
   ]
  },
  {
   "cell_type": "code",
   "execution_count": 72,
   "id": "92044470",
   "metadata": {},
   "outputs": [
    {
     "data": {
      "text/plain": [
       "ph                     7.073783\n",
       "Hardness             195.800744\n",
       "Solids             22383.991018\n",
       "Chloramines            7.169338\n",
       "Sulfate              332.566990\n",
       "Conductivity         425.383800\n",
       "Organic_carbon        14.160893\n",
       "Trihalomethanes       66.539684\n",
       "Turbidity              3.968328\n",
       "Potability             1.000000\n",
       "dtype: float64"
      ]
     },
     "execution_count": 72,
     "metadata": {},
     "output_type": "execute_result"
    }
   ],
   "source": [
    "df_scaled_Good.mean()"
   ]
  },
  {
   "cell_type": "code",
   "execution_count": 73,
   "id": "917db0c1",
   "metadata": {},
   "outputs": [
    {
     "data": {
      "text/plain": [
       "ph                     7.085378\n",
       "Hardness             196.733292\n",
       "Solids             21777.490788\n",
       "Chloramines            7.092175\n",
       "Sulfate              334.564290\n",
       "Conductivity         426.730454\n",
       "Organic_carbon        14.364335\n",
       "Trihalomethanes       66.303555\n",
       "Turbidity              3.965800\n",
       "Potability             0.000000\n",
       "dtype: float64"
      ]
     },
     "execution_count": 73,
     "metadata": {},
     "output_type": "execute_result"
    }
   ],
   "source": [
    "df_scaled_Not_Good.mean()"
   ]
  },
  {
   "cell_type": "code",
   "execution_count": 75,
   "id": "184a7d04",
   "metadata": {},
   "outputs": [
    {
     "data": {
      "text/plain": [
       "ph                     7.036752\n",
       "Hardness             196.632907\n",
       "Solids             21199.386614\n",
       "Chloramines            7.215163\n",
       "Sulfate              331.838167\n",
       "Conductivity         420.712729\n",
       "Organic_carbon        14.162809\n",
       "Trihalomethanes       66.678214\n",
       "Turbidity              3.958576\n",
       "Potability             1.000000\n",
       "dtype: float64"
      ]
     },
     "execution_count": 75,
     "metadata": {},
     "output_type": "execute_result"
    }
   ],
   "source": [
    "df_scaled_Good.median()"
   ]
  },
  {
   "cell_type": "code",
   "execution_count": 76,
   "id": "e8341b0d",
   "metadata": {
    "scrolled": true
   },
   "outputs": [
    {
     "data": {
      "text/plain": [
       "ph                     7.035456\n",
       "Hardness             197.123423\n",
       "Solids             20809.618280\n",
       "Chloramines            7.090334\n",
       "Sulfate              333.389426\n",
       "Conductivity         422.229331\n",
       "Organic_carbon        14.293508\n",
       "Trihalomethanes       66.542198\n",
       "Turbidity              3.948076\n",
       "Potability             0.000000\n",
       "dtype: float64"
      ]
     },
     "execution_count": 76,
     "metadata": {},
     "output_type": "execute_result"
    }
   ],
   "source": [
    "df_scaled_Not_Good.median()"
   ]
  },
  {
   "cell_type": "code",
   "execution_count": 74,
   "id": "0ac8a27e",
   "metadata": {
    "scrolled": false
   },
   "outputs": [
    {
     "name": "stdout",
     "output_type": "stream",
     "text": [
      "Good\n"
     ]
    },
    {
     "data": {
      "image/png": "[encoded data removed]",
      "text/plain": [
       "<Figure size 640x480 with 1 Axes>"
      ]
     },
     "metadata": {},
     "output_type": "display_data"
    },
    {
     "name": "stdout",
     "output_type": "stream",
     "text": [
      "LBad\n"
     ]
    },
    {
     "data": {
      "image/png": "[encoded data removed]",
      "text/plain": [
       "<Figure size 640x480 with 1 Axes>"
      ]
     },
     "metadata": {},
     "output_type": "display_data"
    }
   ],
   "source": [
    "print(\"Good\")\n",
    "df_scaled_Good['Conductivity'].plot(kind='hist')\n",
    "plt.show()\n",
    "print(\"LBad\")\n",
    "df_scaled_Not_Good['Conductivity'].plot(kind='hist')\n",
    "plt.ylabel(\"Lose\")\n",
    "plt.show()"
   ]
  },
  {
   "cell_type": "code",
   "execution_count": null,
   "id": "eaba39c1",
   "metadata": {},
   "outputs": [],
   "source": [
    "### Add Box Plot"
   ]
  },
  {
   "cell_type": "code",
   "execution_count": null,
   "id": "620e3245",
   "metadata": {},
   "outputs": [],
   "source": [
    "print(\"Good\")\n",
    "df_scaled_Good['ph'].plot(kind='hist')\n",
    "plt.show()\n",
    "print(\"LBad\")\n",
    "df_scaled_Not_Good['ph'].plot(kind='hist')\n",
    "plt.ylabel(\"Lose\")\n",
    "plt.show()"
   ]
  },
  {
   "cell_type": "code",
   "execution_count": 56,
   "id": "f715d0a3",
   "metadata": {},
   "outputs": [
    {
     "data": {
      "text/plain": [
       "'\\nFeature Engineering\\n\\nScaling\\n'"
      ]
     },
     "execution_count": 56,
     "metadata": {},
     "output_type": "execute_result"
    }
   ],
   "source": [
    "\"\"\"\n",
    "Feature Engineering\n",
    "\n",
    "Scaling\n",
    "\"\"\""
   ]
  },
  {
   "cell_type": "code",
   "execution_count": null,
   "id": "4d013bf0",
   "metadata": {},
   "outputs": [],
   "source": [
    "### Check Variance, Remove the low variance"
   ]
  },
  {
   "cell_type": "code",
   "execution_count": null,
   "id": "802d3ae7",
   "metadata": {},
   "outputs": [],
   "source": [
    "### Correlation of each features"
   ]
  }
 ],
 "metadata": {
  "kernelspec": {
   "display_name": "Python 3 (ipykernel)",
   "language": "python",
   "name": "python3"
  },
  "language_info": {
   "codemirror_mode": {
    "name": "ipython",
    "version": 3
   },
   "file_extension": ".py",
   "mimetype": "text/x-python",
   "name": "python",
   "nbconvert_exporter": "python",
   "pygments_lexer": "ipython3",
   "version": "3.11.4"
  }
 },
 "nbformat": 4,
 "nbformat_minor": 5
}
