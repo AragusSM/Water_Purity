{
 "cells": [
  {
   "cell_type": "markdown",
   "id": "28ace065",
   "metadata": {},
   "source": [
    "# CS 363M Group 48 Project Submssion"
   ]
  },
  {
   "cell_type": "markdown",
   "id": "d1061ade",
   "metadata": {},
   "source": [
    "## Subject : Water Portability Detection\n",
    "### -Water is an essential part of our life. However, billions of people have a limited access to clean water. Especially in Africa, 115 people die in every hours from disease from contaminated water. Therefore, by examining the portability of water, we can specify a clean water more easily and cost-efficiently. "
   ]
  },
  {
   "cell_type": "markdown",
   "id": "8c746b5d",
   "metadata": {},
   "source": [
    "## Explanation of Data Set\n",
    "### Overview: Dataset determined whether water is safe based on 9 features.\n",
    "### Size: Data contains 3276 data sets\n",
    "### Description of Datasets\n",
    "### **pH value** : A measurement of acidic or alkaline condition of water scaled in 1-14, and pure water has pH value of 7.  WHO recommened maximum permissible limit of 6.5 to 8.5.\n"
   ]
  },
  {
   "cell_type": "code",
   "execution_count": null,
   "id": "ea31dfbe",
   "metadata": {},
   "outputs": [],
   "source": []
  }
 ],
 "metadata": {
  "kernelspec": {
   "display_name": "Python 3 (ipykernel)",
   "language": "python",
   "name": "python3"
  },
  "language_info": {
   "codemirror_mode": {
    "name": "ipython",
    "version": 3
   },
   "file_extension": ".py",
   "mimetype": "text/x-python",
   "name": "python",
   "nbconvert_exporter": "python",
   "pygments_lexer": "ipython3",
   "version": "3.11.4"
  }
 },
 "nbformat": 4,
 "nbformat_minor": 5
}
